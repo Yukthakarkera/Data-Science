{
  "nbformat": 4,
  "nbformat_minor": 0,
  "metadata": {
    "colab": {
      "provenance": [],
      "authorship_tag": "ABX9TyMcDw5RKUCqTaixCPUDleNZ",
      "include_colab_link": true
    },
    "kernelspec": {
      "name": "python3",
      "display_name": "Python 3"
    },
    "language_info": {
      "name": "python"
    }
  },
  "cells": [
    {
      "cell_type": "markdown",
      "metadata": {
        "id": "view-in-github",
        "colab_type": "text"
      },
      "source": [
        "<a href=\"https://colab.research.google.com/github/Yukthakarkera/Data-Science/blob/main/Measure_of_Dispersion.ipynb\" target=\"_parent\"><img src=\"https://colab.research.google.com/assets/colab-badge.svg\" alt=\"Open In Colab\"/></a>"
      ]
    },
    {
      "cell_type": "code",
      "execution_count": 1,
      "metadata": {
        "colab": {
          "base_uri": "https://localhost:8080/"
        },
        "id": "1XmPvgVcyH2X",
        "outputId": "0eb3ed76-033c-4230-a89e-95db0cbdeec1"
      },
      "outputs": [
        {
          "name": "stdout",
          "output_type": "stream",
          "text": [
            "Enter the number of elements5\n",
            "Enter the elements1\n",
            "Enter the elements2\n",
            "Enter the elements3\n",
            "Enter the elements4\n",
            "Enter the elements5\n"
          ]
        },
        {
          "output_type": "execute_result",
          "data": {
            "text/plain": [
              "[1, 2, 3, 4, 5]"
            ]
          },
          "metadata": {},
          "execution_count": 1
        }
      ],
      "source": [
        "#MEASURE OF DISPERSION(RANGE,VARIANCE,STANDARD DEVIATION,IQR)\n",
        "\n",
        "data=[] #Creating list to store values\n",
        "num=int(input(\"Enter the number of elements\"))\n",
        "for i in  range(num):\n",
        "  element=int(input(\"Enter the elements\"))\n",
        "  data.append(element)\n",
        "data"
      ]
    },
    {
      "cell_type": "code",
      "source": [
        "#FINDING RANGE WITH AND WITHOUT USING INBUILT FUNCTION\n",
        "\n",
        "min_value=max_value=data[0]\n",
        "for num in data:\n",
        "  if num<=min_value:\n",
        "    min_value=num\n",
        "  if num>=max_value:\n",
        "    max_value=num\n",
        "range_value=max_value-min_value\n",
        "print(\"Range (without using built in function)\",range_value)\n",
        "\n",
        "import numpy as np\n",
        "min_val=np.min(data)\n",
        "max_val=np.max(data)\n",
        "range_val=max_val-min_val\n",
        "print(\"\\nRange (with using built in function)\",range_val)"
      ],
      "metadata": {
        "colab": {
          "base_uri": "https://localhost:8080/"
        },
        "id": "VbWms2TAyMKe",
        "outputId": "50a1ac6e-99af-403b-8c32-0d9de724384e"
      },
      "execution_count": 2,
      "outputs": [
        {
          "output_type": "stream",
          "name": "stdout",
          "text": [
            "Range (without using built in function) 4\n",
            "\n",
            "Range (with using built in function) 4\n"
          ]
        }
      ]
    },
    {
      "cell_type": "code",
      "source": [
        "#FINDING VARIANCE WITH AND WITHOUT USING INBUILT FUNCTION\n",
        "\n",
        "\n",
        "sum1=0\n",
        "for i in data:\n",
        "    sum1=sum1+i\n",
        "mean1=sum1/num\n",
        "variance_value=sum((item-mean1)**2 for item in data)/num\n",
        "print(\"variance (without using built in function)\",variance_value)\n",
        "\n",
        "print(\"\\nvariance (with using built in function)\",np.var(data))"
      ],
      "metadata": {
        "colab": {
          "base_uri": "https://localhost:8080/"
        },
        "id": "SbXYG5tgycCb",
        "outputId": "1e20d79d-6aee-4f55-cb05-5bffcfe634ae"
      },
      "execution_count": 4,
      "outputs": [
        {
          "output_type": "stream",
          "name": "stdout",
          "text": [
            "variance (without using built in function) 2.0\n",
            "\n",
            "variance (with using built in function) 2.0\n"
          ]
        }
      ]
    },
    {
      "cell_type": "code",
      "source": [
        "#FINDING STANDARD DEVIATION WITH AND WITHOUT USING INBUILT FUNCTION\n",
        "\n",
        "std_value=variance_value**0.5\n",
        "print(\"Standard deviation (without using built in function)\",std_value)\n",
        "\n",
        "print(\"\\nStandard deviation  (with using built in function)\",np.std(data))"
      ],
      "metadata": {
        "colab": {
          "base_uri": "https://localhost:8080/"
        },
        "id": "GsJvlTWtyw_a",
        "outputId": "24633ae0-9591-4fc5-c316-d0dda2b063a5"
      },
      "execution_count": 7,
      "outputs": [
        {
          "output_type": "stream",
          "name": "stdout",
          "text": [
            "Standard deviation (without using built in function) 1.4142135623730951\n",
            "\n",
            "Standard deviation  (with using built in function) 1.4142135623730951\n"
          ]
        }
      ]
    },
    {
      "cell_type": "code",
      "source": [
        "#FINDING INTER QUARTILE RANGE WITH AND WITHOUT USING INBUILT FUNCTION\n",
        "\n",
        "q3,q1=np.percentile(data,[75,25],method='midpoint')\n",
        "iqr_value=q3-q1\n",
        "print(\"IQR (without using built in function)\",iqr_value)\n",
        "\n",
        "from scipy import stats\n",
        "print(\"\\nIQR (with using built in function)\",stats.iqr(data,interpolation='midpoint'))\n",
        "\n",
        "\n"
      ],
      "metadata": {
        "colab": {
          "base_uri": "https://localhost:8080/"
        },
        "id": "4zgovcVKzRMl",
        "outputId": "a8130530-a6c2-4a70-eb54-80678ab6765a"
      },
      "execution_count": 12,
      "outputs": [
        {
          "output_type": "stream",
          "name": "stdout",
          "text": [
            "IQR (without using built in function) 2.0\n",
            "\n",
            "IQR (with using built in function) 2.0\n"
          ]
        }
      ]
    },
    {
      "cell_type": "code",
      "source": [],
      "metadata": {
        "id": "3JnOalVR0HQp"
      },
      "execution_count": null,
      "outputs": []
    }
  ]
}