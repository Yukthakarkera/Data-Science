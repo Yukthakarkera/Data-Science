{
  "cells": [
    {
      "cell_type": "markdown",
      "metadata": {
        "id": "view-in-github",
        "colab_type": "text"
      },
      "source": [
        "<a href=\"https://colab.research.google.com/github/Yukthakarkera/Data-Science/blob/main/Measure_of_Dispersion.ipynb\" target=\"_parent\"><img src=\"https://colab.research.google.com/assets/colab-badge.svg\" alt=\"Open In Colab\"/></a>"
      ]
    },
    {
      "cell_type": "code",
      "execution_count": null,
      "metadata": {
        "colab": {
          "base_uri": "https://localhost:8080/"
        },
        "id": "ahn86cr0ais7",
        "outputId": "2ff7fac6-618d-42c2-895c-7bf578b3b024"
      },
      "outputs": [
        {
          "name": "stdout",
          "output_type": "stream",
          "text": [
            "enter the number of elements5\n",
            "enter the elements1\n",
            "enter the elements2\n",
            "enter the elements3\n",
            "enter the elements4\n",
            "enter the elements5\n"
          ]
        },
        {
          "data": {
            "text/plain": [
              "[1, 2, 3, 4, 5]"
            ]
          },
          "execution_count": 11,
          "metadata": {},
          "output_type": "execute_result"
        }
      ],
      "source": [
        "data=[]\n",
        "num=int(input(\"enter the number of elements\"))\n",
        "for i in range(num):\n",
        "  element=int(input(\"enter the elements\"))\n",
        "  data.append(element)\n",
        "data"
      ]
    },
    {
      "cell_type": "code",
      "execution_count": null,
      "metadata": {
        "colab": {
          "base_uri": "https://localhost:8080/"
        },
        "id": "mGuGqEb_a4xg",
        "outputId": "e13ac715-5690-43f2-ed1a-9b29cac81688"
      },
      "outputs": [
        {
          "name": "stdout",
          "output_type": "stream",
          "text": [
            "Range(without using inbuilt function) 4\n",
            "Range(with using inbuilt funtion) 4\n"
          ]
        }
      ],
      "source": [
        "#Finding Range\n",
        "\n",
        "minimum=maximum=data[0]\n",
        "if num<=minimum:\n",
        "  minimum=num\n",
        "if num>=maximum:\n",
        "  maximum=num\n",
        "Range_value=maximum-minimum\n",
        "print(\"Range(without using inbuilt function)\",Range_value)\n",
        "\n",
        "\n",
        "import numpy as np\n",
        "maximum=np.max(data)\n",
        "minimum=np.min(data)\n",
        "Range_value=maximum-minimum\n",
        "print(\"Range(with using inbuilt funtion)\",Range_value)"
      ]
    },
    {
      "cell_type": "code",
      "execution_count": null,
      "metadata": {
        "colab": {
          "background_save": true,
          "base_uri": "https://localhost:8080/",
          "height": 227
        },
        "id": "vS0aF2xscEBd",
        "outputId": "5164fab2-0d3f-4dc3-d444-d8106a4c2f38"
      },
      "outputs": [
        {
          "ename": "TypeError",
          "evalue": "ignored",
          "output_type": "error",
          "traceback": [
            "\u001b[0;31m---------------------------------------------------------------------------\u001b[0m",
            "\u001b[0;31mTypeError\u001b[0m                                 Traceback (most recent call last)",
            "\u001b[0;32m<ipython-input-23-5aac3647881c>\u001b[0m in \u001b[0;36m<cell line: 7>\u001b[0;34m()\u001b[0m\n\u001b[1;32m      5\u001b[0m   \u001b[0msum1\u001b[0m\u001b[0;34m=\u001b[0m\u001b[0msum1\u001b[0m\u001b[0;34m+\u001b[0m\u001b[0mi\u001b[0m\u001b[0;34m\u001b[0m\u001b[0;34m\u001b[0m\u001b[0m\n\u001b[1;32m      6\u001b[0m \u001b[0mmean_value\u001b[0m\u001b[0;34m=\u001b[0m\u001b[0msum1\u001b[0m\u001b[0;34m/\u001b[0m\u001b[0mnum\u001b[0m\u001b[0;34m\u001b[0m\u001b[0;34m\u001b[0m\u001b[0m\n\u001b[0;32m----> 7\u001b[0;31m \u001b[0mvariance_value\u001b[0m\u001b[0;34m=\u001b[0m\u001b[0msum\u001b[0m\u001b[0;34m(\u001b[0m\u001b[0;34m(\u001b[0m\u001b[0mval\u001b[0m\u001b[0;34m-\u001b[0m\u001b[0mmean_value\u001b[0m\u001b[0;34m)\u001b[0m\u001b[0;34m**\u001b[0m\u001b[0;36m2\u001b[0m \u001b[0;32mfor\u001b[0m \u001b[0mval\u001b[0m \u001b[0;32min\u001b[0m \u001b[0mdata\u001b[0m\u001b[0;34m)\u001b[0m\u001b[0;34m/\u001b[0m\u001b[0mnum\u001b[0m\u001b[0;34m\u001b[0m\u001b[0;34m\u001b[0m\u001b[0m\n\u001b[0m\u001b[1;32m      8\u001b[0m \u001b[0mprint\u001b[0m\u001b[0;34m(\u001b[0m\u001b[0;34m\"Variance(without using inbuilt function)\"\u001b[0m\u001b[0;34m,\u001b[0m\u001b[0mvariance_value\u001b[0m\u001b[0;34m)\u001b[0m\u001b[0;34m\u001b[0m\u001b[0;34m\u001b[0m\u001b[0m\n",
            "\u001b[0;31mTypeError\u001b[0m: 'int' object is not callable"
          ]
        }
      ],
      "source": [
        "#Finding Variance\n",
        "\n",
        "sum1=0\n",
        "for i in data:\n",
        "  sum1=sum1+i\n",
        "mean_value=sum1/num\n",
        "variance_value=sum((item-mean_value)**2 for item in data)/num\n",
        "print(\"Variance(without using inbuilt function)\",variance_value)"
      ]
    },
    {
      "cell_type": "code",
      "execution_count": null,
      "metadata": {
        "id": "YLbMqmOAdHV2"
      },
      "outputs": [],
      "source": []
    },
    {
      "cell_type": "code",
      "execution_count": null,
      "metadata": {
        "id": "GHBK_ZMGfGnh"
      },
      "outputs": [],
      "source": []
    }
  ],
  "metadata": {
    "colab": {
      "provenance": [],
      "authorship_tag": "ABX9TyMFOG6YCgAzUI+dJKaRfBe7",
      "include_colab_link": true
    },
    "kernelspec": {
      "display_name": "Python 3",
      "name": "python3"
    },
    "language_info": {
      "name": "python"
    }
  },
  "nbformat": 4,
  "nbformat_minor": 0
}