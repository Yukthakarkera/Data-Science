{
  "nbformat": 4,
  "nbformat_minor": 0,
  "metadata": {
    "colab": {
      "provenance": [],
      "authorship_tag": "ABX9TyMuOcGvFyYX0e/Rbstc+LED",
      "include_colab_link": true
    },
    "kernelspec": {
      "name": "python3",
      "display_name": "Python 3"
    },
    "language_info": {
      "name": "python"
    }
  },
  "cells": [
    {
      "cell_type": "markdown",
      "metadata": {
        "id": "view-in-github",
        "colab_type": "text"
      },
      "source": [
        "<a href=\"https://colab.research.google.com/github/Yukthakarkera/Data-Science/blob/main/Measure_Of_Central_Tendancy.ipynb\" target=\"_parent\"><img src=\"https://colab.research.google.com/assets/colab-badge.svg\" alt=\"Open In Colab\"/></a>"
      ]
    },
    {
      "cell_type": "code",
      "execution_count": 35,
      "metadata": {
        "colab": {
          "base_uri": "https://localhost:8080/"
        },
        "id": "5-4-kmU2OgX5",
        "outputId": "0ae5f79a-269f-417f-a1cf-4ca62cd632ac"
      },
      "outputs": [
        {
          "name": "stdout",
          "output_type": "stream",
          "text": [
            "Enter the Number of elements6\n",
            "Enter the elements9\n",
            "Enter the elements5\n",
            "Enter the elements7\n",
            "Enter the elements2\n",
            "Enter the elements5\n",
            "Enter the elements1\n"
          ]
        },
        {
          "output_type": "execute_result",
          "data": {
            "text/plain": [
              "[9, 5, 7, 2, 5, 1]"
            ]
          },
          "metadata": {},
          "execution_count": 35
        }
      ],
      "source": [
        "#MEASURE OF CENTRAL TENDANCY(MEAN, MEDIAN, MODE)\n",
        "\n",
        "data=[] #Creating List to store values\n",
        "num=int(input(\"Enter the Number of elements\"))\n",
        "for i in range(num):\n",
        "  element=int(input(\"Enter the elements\"))\n",
        "  data.append(element)\n",
        "data"
      ]
    },
    {
      "cell_type": "code",
      "source": [
        "#FINDING MEAN WITH AND WITHOUT USING INBUILT FUNCTION\n",
        "\n",
        "sum=0\n",
        "for i in data:\n",
        "  sum=sum+i\n",
        "mean_value=sum/num\n",
        "print(\"Mean(without using inbuilt function)\",mean_value)\n",
        "\n",
        "import numpy as np\n",
        "print(\"\\nMean(with using inbuilt function)\",np.mean(data))"
      ],
      "metadata": {
        "colab": {
          "base_uri": "https://localhost:8080/"
        },
        "id": "OBJNH6amPwzK",
        "outputId": "0b27ac87-07f8-41e2-901c-80147f882574"
      },
      "execution_count": 36,
      "outputs": [
        {
          "output_type": "stream",
          "name": "stdout",
          "text": [
            "Mean(without using inbuilt function) 4.833333333333333\n",
            "\n",
            "Mean(with using inbuilt function) 4.833333333333333\n"
          ]
        }
      ]
    },
    {
      "cell_type": "code",
      "source": [
        "#FINDING MEDIAN WITH AND WITHOUT USING INBUILT FUNTIONS\n",
        "\n",
        "sorted_list=sorted(data)\n",
        "print(\"sorted list is\",sorted_list)\n",
        "if num%2==0:\n",
        "  index_1=(num)//2\n",
        "  index_2=index_1-1\n",
        "  median_value=(sorted_list[index_1]+sorted_list[index_2])/2\n",
        "else:\n",
        "  index=num//2\n",
        "  median_value=sorted_list\n",
        "print(\"\\nMedian(without using inbuilt function)\",median_value)\n",
        "\n",
        "print(\"\\nMedian(with using inbuilt function)\",np.median(data))"
      ],
      "metadata": {
        "colab": {
          "base_uri": "https://localhost:8080/"
        },
        "id": "upkeU8BfVIP-",
        "outputId": "64286f20-d58b-47bf-cb5a-d0377a2d8d3e"
      },
      "execution_count": 40,
      "outputs": [
        {
          "output_type": "stream",
          "name": "stdout",
          "text": [
            "sorted list is [1, 2, 5, 5, 7, 9]\n",
            "\n",
            "Median(without using inbuilt function) 5.0\n",
            "\n",
            "Median(with using inbuilt function) 5.0\n"
          ]
        }
      ]
    },
    {
      "cell_type": "code",
      "source": [
        "#FINDING MODE WITH AND WITHOUT USING INBUILT FUNCTION\n",
        "\n",
        "count={}\n",
        "for number in data:\n",
        "  if number in count:\n",
        "    count[number]+=1\n",
        "  else:\n",
        "    count[number]=1\n",
        "max_value=max(count.values())\n",
        "mode_value=[key for key,value in count.items() if value==max_value]\n",
        "print(\"Mode(without using inbuilt function\",mode_value)\n",
        "\n",
        "import statistics as stat\n",
        "print(\"\\nMode(with using inbuilt function)\",stat.mode(data))"
      ],
      "metadata": {
        "colab": {
          "base_uri": "https://localhost:8080/"
        },
        "id": "aY1UflC_WrLi",
        "outputId": "0cab93cb-0f2f-4c1e-db69-200b74ce0bba"
      },
      "execution_count": 41,
      "outputs": [
        {
          "output_type": "stream",
          "name": "stdout",
          "text": [
            "Mode(without using inbuilt function [5]\n",
            "\n",
            "Mode(with using inbuilt function) 5\n"
          ]
        }
      ]
    },
    {
      "cell_type": "code",
      "source": [],
      "metadata": {
        "id": "3WttvGPgd4gP"
      },
      "execution_count": null,
      "outputs": []
    }
  ]
}