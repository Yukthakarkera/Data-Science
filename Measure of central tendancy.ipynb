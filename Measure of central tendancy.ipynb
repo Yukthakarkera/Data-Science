{
 "cells": [
  {
   "cell_type": "code",
   "execution_count": 45,
   "id": "bd7f524a",
   "metadata": {},
   "outputs": [
    {
     "name": "stdout",
     "output_type": "stream",
     "text": [
      "enter the number of elements5\n",
      "enter the elements1\n",
      "enter the elements1\n",
      "enter the elements2\n",
      "enter the elements2\n",
      "enter the elements2\n"
     ]
    },
    {
     "data": {
      "text/plain": [
       "[1, 1, 2, 2, 2]"
      ]
     },
     "execution_count": 45,
     "metadata": {},
     "output_type": "execute_result"
    }
   ],
   "source": [
    "import numpy as np\n",
    "data=[]\n",
    "num=int(input(\"enter the number of elements\"))\n",
    "for i in range(num):\n",
    "    element=int(input('enter the elements'))\n",
    "    data.append(element)\n",
    "data"
   ]
  },
  {
   "cell_type": "code",
   "execution_count": 46,
   "id": "e172c78d",
   "metadata": {},
   "outputs": [
    {
     "name": "stdout",
     "output_type": "stream",
     "text": [
      "mean (without using inbuilt function)  1.6\n"
     ]
    }
   ],
   "source": [
    "sum=0\n",
    "for i in data:\n",
    "    sum=sum+i\n",
    "mean=(sum)/num\n",
    "print(\"mean (without using inbuilt function) \",mean)"
   ]
  },
  {
   "cell_type": "code",
   "execution_count": 47,
   "id": "c367c666",
   "metadata": {},
   "outputs": [
    {
     "name": "stdout",
     "output_type": "stream",
     "text": [
      "mean(with using inbuilt function) 1.6\n"
     ]
    }
   ],
   "source": [
    "print(\"mean(with using inbuilt function)\",np.mean(data))"
   ]
  },
  {
   "cell_type": "code",
   "execution_count": 48,
   "id": "976f3574",
   "metadata": {},
   "outputs": [
    {
     "name": "stdout",
     "output_type": "stream",
     "text": [
      "[1, 1, 2, 2, 2]\n",
      "median(without using inbuilt function) 2\n"
     ]
    }
   ],
   "source": [
    "#finding median without using inbuilt function\n",
    "\n",
    "sorted_data=sorted(data)\n",
    "print(sorted_data)\n",
    "if num%2==0:\n",
    "    mid_index1=num//2\n",
    "    mid_index2=mid_index1-1\n",
    "    median=(sorted_data[mid_index1]+sorted_data[mid_index2])/2\n",
    "else:\n",
    "    mid_index=num//2\n",
    "    median=sorted_data[mid_index]\n",
    "print(\"median(without using inbuilt function)\",median)"
   ]
  },
  {
   "cell_type": "code",
   "execution_count": 49,
   "id": "69698815",
   "metadata": {},
   "outputs": [
    {
     "name": "stdout",
     "output_type": "stream",
     "text": [
      "mean(with using inbuilt function) 2.0\n"
     ]
    }
   ],
   "source": [
    "#finding median with using inbuilt function\n",
    "\n",
    "print(\"mean(with using inbuilt function)\",np.median(data))"
   ]
  },
  {
   "cell_type": "code",
   "execution_count": 62,
   "id": "8869b0d2",
   "metadata": {},
   "outputs": [
    {
     "name": "stdout",
     "output_type": "stream",
     "text": [
      "mode is [2]\n",
      "mode is 2\n"
     ]
    }
   ],
   "source": [
    "#mode\n",
    "\n",
    "count={}\n",
    "for number in data:\n",
    "    if number in count:\n",
    "        count[number]+=1\n",
    "    else:\n",
    "         count[number]=1\n",
    "max_value=max(count.values())\n",
    "mode = [key for key, value in count.items() if value == max_value]\n",
    "print(\"mode is\",mode)\n",
    "    \n",
    "import statistics as stat\n",
    "print(\"mode is\",stat.mode(data))"
   ]
  },
  {
   "cell_type": "code",
   "execution_count": null,
   "id": "21655e50",
   "metadata": {},
   "outputs": [],
   "source": []
  }
 ],
 "metadata": {
  "kernelspec": {
   "display_name": "Python 3 (ipykernel)",
   "language": "python",
   "name": "python3"
  },
  "language_info": {
   "codemirror_mode": {
    "name": "ipython",
    "version": 3
   },
   "file_extension": ".py",
   "mimetype": "text/x-python",
   "name": "python",
   "nbconvert_exporter": "python",
   "pygments_lexer": "ipython3",
   "version": "3.11.3"
  }
 },
 "nbformat": 4,
 "nbformat_minor": 5
}
